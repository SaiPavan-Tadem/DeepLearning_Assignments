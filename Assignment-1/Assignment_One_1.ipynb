{
  "nbformat": 4,
  "nbformat_minor": 0,
  "metadata": {
    "colab": {
      "name": "Assignment_One_1.ipynb",
      "provenance": [],
      "collapsed_sections": []
    },
    "kernelspec": {
      "name": "python3",
      "display_name": "Python 3"
    },
    "language_info": {
      "name": "python"
    },
    "accelerator": "GPU"
  },
  "cells": [
    {
      "cell_type": "markdown",
      "metadata": {
        "id": "Hb7-jbOAzb8y"
      },
      "source": [
        "**Steps Followed:**"
      ]
    },
    {
      "cell_type": "markdown",
      "metadata": {
        "id": "skWzy2DE6VMG"
      },
      "source": [
        "stage-1: Training_data is given"
      ]
    },
    {
      "cell_type": "markdown",
      "metadata": {
        "id": "kBHwxGMz6WzI"
      },
      "source": [
        "stage-2: Testing data is given "
      ]
    },
    {
      "cell_type": "markdown",
      "metadata": {
        "id": "WIYHONZIzdva"
      },
      "source": [
        "stage-3: we need to give input to select activation function EX: if we need ReLU we need to give ReLU as input."
      ]
    },
    {
      "cell_type": "markdown",
      "metadata": {
        "id": "B2ZsflVm6dh-"
      },
      "source": [
        "stage-4: Code to perform the Training task"
      ]
    },
    {
      "cell_type": "markdown",
      "metadata": {
        "id": "VSzKEHC66_1G"
      },
      "source": [
        "stage-5: Code to plot the results "
      ]
    },
    {
      "cell_type": "markdown",
      "metadata": {
        "id": "Yppdo_PPqulg"
      },
      "source": [
        "#1. Training Data"
      ]
    },
    {
      "cell_type": "code",
      "metadata": {
        "id": "acAaUY9CZPx1"
      },
      "source": [
        "training_data=[[[0.6455696202531644,\n",
        "   0.7954545454545454,\n",
        "   0.20289855072463767,\n",
        "   0.08000000000000002],\n",
        "  0],\n",
        " [[0.5949367088607594,\n",
        "   0.7272727272727273,\n",
        "   0.18840579710144928,\n",
        "   0.08000000000000002],\n",
        "  0],\n",
        " [[0.5822784810126581,\n",
        "   0.7045454545454546,\n",
        "   0.2173913043478261,\n",
        "   0.08000000000000002],\n",
        "  0],\n",
        " [[0.6329113924050632,\n",
        "   0.8181818181818181,\n",
        "   0.20289855072463767,\n",
        "   0.08000000000000002],\n",
        "  0],\n",
        " [[0.6835443037974683,\n",
        "   0.8863636363636364,\n",
        "   0.2463768115942029,\n",
        "   0.16000000000000003],\n",
        "  0],\n",
        " [[0.6329113924050632,\n",
        "   0.7727272727272727,\n",
        "   0.2173913043478261,\n",
        "   0.08000000000000002],\n",
        "  0],\n",
        " [[0.5569620253164557,\n",
        "   0.6590909090909091,\n",
        "   0.20289855072463767,\n",
        "   0.08000000000000002],\n",
        "  0],\n",
        " [[0.620253164556962,\n",
        "   0.7045454545454546,\n",
        "   0.2173913043478261,\n",
        "   0.04000000000000001],\n",
        "  0],\n",
        " [[0.6075949367088607,\n",
        "   0.7727272727272727,\n",
        "   0.23188405797101452,\n",
        "   0.08000000000000002],\n",
        "  0],\n",
        " [[0.6075949367088607,\n",
        "   0.6818181818181818,\n",
        "   0.20289855072463767,\n",
        "   0.04000000000000001],\n",
        "  0],\n",
        " [[0.5443037974683543,\n",
        "   0.6818181818181818,\n",
        "   0.15942028985507248,\n",
        "   0.04000000000000001],\n",
        "  0],\n",
        " [[0.7341772151898733,\n",
        "   0.9090909090909091,\n",
        "   0.17391304347826086,\n",
        "   0.08000000000000002],\n",
        "  0],\n",
        " \n",
        " [[0.6835443037974683,\n",
        "   0.8863636363636364,\n",
        "   0.18840579710144928,\n",
        "   0.16000000000000003],\n",
        "  0],\n",
        " [[0.6455696202531644, 0.7954545454545454, 0.20289855072463767, 0.12], 0],\n",
        " [[0.7215189873417721, 0.8636363636363635, 0.2463768115942029, 0.12], 0],\n",
        " \n",
        " [[0.6835443037974683,\n",
        "   0.7727272727272727,\n",
        "   0.2463768115942029,\n",
        "   0.08000000000000002],\n",
        "  0],\n",
        " [[0.6455696202531644,\n",
        "   0.8409090909090909,\n",
        "   0.2173913043478261,\n",
        "   0.16000000000000003],\n",
        "  0],\n",
        " \n",
        " [[0.6455696202531644, 0.7499999999999999, 0.2463768115942029, 0.2], 0],\n",
        " [[0.6075949367088607,\n",
        "   0.7727272727272727,\n",
        "   0.2753623188405797,\n",
        "   0.08000000000000002],\n",
        "  0],\n",
        " [[0.6329113924050632,\n",
        "   0.6818181818181818,\n",
        "   0.23188405797101452,\n",
        "   0.08000000000000002],\n",
        "  0],\n",
        " [[0.6329113924050632,\n",
        "   0.7727272727272727,\n",
        "   0.23188405797101452,\n",
        "   0.16000000000000003],\n",
        "  0],\n",
        " [[0.6582278481012658,\n",
        "   0.7727272727272727,\n",
        "   0.20289855072463767,\n",
        "   0.08000000000000002],\n",
        "  0],\n",
        " [[0.5949367088607594,\n",
        "   0.7272727272727273,\n",
        "   0.23188405797101452,\n",
        "   0.08000000000000002],\n",
        "  0],\n",
        " [[0.6835443037974683,\n",
        "   0.7727272727272727,\n",
        "   0.2173913043478261,\n",
        "   0.16000000000000003],\n",
        "  0],\n",
        " [[0.6582278481012658,\n",
        "   0.9318181818181817,\n",
        "   0.2173913043478261,\n",
        "   0.04000000000000001],\n",
        "  0],\n",
        " [[0.6962025316455696,\n",
        "   0.9545454545454546,\n",
        "   0.20289855072463767,\n",
        "   0.08000000000000002],\n",
        "  0],\n",
        " [[0.620253164556962,\n",
        "   0.7045454545454546,\n",
        "   0.2173913043478261,\n",
        "   0.08000000000000002],\n",
        "  0],\n",
        " [[0.6329113924050632,\n",
        "   0.7272727272727273,\n",
        "   0.17391304347826086,\n",
        "   0.08000000000000002],\n",
        "  0],\n",
        " [[0.6962025316455696,\n",
        "   0.7954545454545454,\n",
        "   0.18840579710144928,\n",
        "   0.08000000000000002],\n",
        "  0],\n",
        " [[0.620253164556962,\n",
        "   0.8181818181818181,\n",
        "   0.20289855072463767,\n",
        "   0.04000000000000001],\n",
        "  0],\n",
        " [[0.5569620253164557,\n",
        "   0.6818181818181818,\n",
        "   0.18840579710144928,\n",
        "   0.08000000000000002],\n",
        "  0],\n",
        " [[0.6455696202531644,\n",
        "   0.7727272727272727,\n",
        "   0.2173913043478261,\n",
        "   0.08000000000000002],\n",
        "  0],\n",
        " [[0.6329113924050632, 0.7954545454545454, 0.18840579710144928, 0.12], 0],\n",
        " [[0.5696202531645569, 0.5227272727272727, 0.18840579710144928, 0.12], 0],\n",
        " [[0.6329113924050632, 0.7954545454545454, 0.23188405797101452, 0.24], 0],\n",
        " [[0.6455696202531644,\n",
        "   0.8636363636363635,\n",
        "   0.2753623188405797,\n",
        "   0.16000000000000003],\n",
        "  0],\n",
        " [[0.6075949367088607, 0.6818181818181818, 0.20289855072463767, 0.12], 0],\n",
        " [[0.5822784810126581,\n",
        "   0.7272727272727273,\n",
        "   0.20289855072463767,\n",
        "   0.08000000000000002],\n",
        "  0],\n",
        " [[0.670886075949367,\n",
        "   0.8409090909090909,\n",
        "   0.2173913043478261,\n",
        "   0.08000000000000002],\n",
        "  0],\n",
        " [[0.6329113924050632,\n",
        "   0.7499999999999999,\n",
        "   0.20289855072463767,\n",
        "   0.08000000000000002],\n",
        "  0],\n",
        " [[0.8860759493670884,\n",
        "   0.7272727272727273,\n",
        "   0.6811594202898551,\n",
        "   0.5599999999999999],\n",
        "  1],\n",
        " [[0.8101265822784809,\n",
        "   0.7272727272727273,\n",
        "   0.6521739130434783,\n",
        "   0.6000000000000001],\n",
        "  1],\n",
        " [[0.6962025316455696, 0.5227272727272727, 0.5797101449275363, 0.52], 1],\n",
        " [[0.8227848101265821,\n",
        "   0.6363636363636364,\n",
        "   0.6666666666666666,\n",
        "   0.6000000000000001],\n",
        "  1],\n",
        " [[0.7215189873417721, 0.6363636363636364, 0.6521739130434783, 0.52], 1],\n",
        " [[0.7974683544303796,\n",
        "   0.7499999999999999,\n",
        "   0.6811594202898551,\n",
        "   0.6400000000000001],\n",
        "  1],\n",
        " [[0.620253164556962, 0.5454545454545454, 0.4782608695652174, 0.4], 1],\n",
        " [[0.6582278481012658,\n",
        "   0.6136363636363636,\n",
        "   0.5652173913043478,\n",
        "   0.5599999999999999],\n",
        "  1],\n",
        " [[0.6329113924050632, 0.45454545454545453, 0.5072463768115942, 0.4], 1],\n",
        " [[0.7468354430379747,\n",
        "   0.6818181818181818,\n",
        "   0.6086956521739131,\n",
        "   0.6000000000000001],\n",
        "  1],\n",
        " [[0.7594936708860758, 0.5, 0.5797101449275363, 0.4], 1],\n",
        " [[0.772151898734177,\n",
        "   0.6590909090909091,\n",
        "   0.6811594202898551,\n",
        "   0.5599999999999999],\n",
        "  1],\n",
        " [[0.7088607594936708, 0.6590909090909091, 0.5217391304347826, 0.52], 1],\n",
        " [[0.8481012658227847,\n",
        "   0.7045454545454546,\n",
        "   0.6376811594202899,\n",
        "   0.5599999999999999],\n",
        "  1],\n",
        " [[0.7341772151898733, 0.6136363636363636, 0.5942028985507246, 0.4], 1],\n",
        " [[0.7088607594936708,\n",
        "   0.5681818181818181,\n",
        "   0.5652173913043478,\n",
        "   0.44000000000000006],\n",
        "  1],\n",
        " [[0.7468354430379747,\n",
        "   0.7272727272727273,\n",
        "   0.6956521739130435,\n",
        "   0.7200000000000001],\n",
        "  1],\n",
        " [[0.7974683544303796,\n",
        "   0.5681818181818181,\n",
        "   0.7101449275362319,\n",
        "   0.6000000000000001],\n",
        "  1],\n",
        " [[0.772151898734177, 0.6363636363636364, 0.6811594202898551, 0.48], 1],\n",
        " [[0.8101265822784809, 0.6590909090909091, 0.6231884057971014, 0.52], 1],\n",
        " [[0.8354430379746833,\n",
        "   0.6818181818181818,\n",
        "   0.6376811594202899,\n",
        "   0.5599999999999999],\n",
        "  1],\n",
        " [[0.8607594936708859,\n",
        "   0.6363636363636364,\n",
        "   0.6956521739130435,\n",
        "   0.5599999999999999],\n",
        "  1],\n",
        " [[0.8481012658227847, 0.6818181818181818, 0.7246376811594203, 0.68], 1],\n",
        " [[0.7215189873417721, 0.5909090909090909, 0.5072463768115942, 0.4], 1],\n",
        " [[0.6962025316455696,\n",
        "   0.5454545454545454,\n",
        "   0.5507246376811594,\n",
        "   0.44000000000000006],\n",
        "  1],\n",
        " [[0.6962025316455696, 0.5454545454545454, 0.5362318840579711, 0.4], 1],\n",
        " [[0.7341772151898733, 0.6136363636363636, 0.5652173913043478, 0.48], 1],\n",
        " [[0.7594936708860758,\n",
        "   0.6136363636363636,\n",
        "   0.7391304347826086,\n",
        "   0.6400000000000001],\n",
        "  1],\n",
        " [[0.6835443037974683,\n",
        "   0.6818181818181818,\n",
        "   0.6521739130434783,\n",
        "   0.6000000000000001],\n",
        "  1],\n",
        "\n",
        " [[0.8481012658227847,\n",
        "   0.7045454545454546,\n",
        "   0.6811594202898551,\n",
        "   0.6000000000000001],\n",
        "  1],\n",
        " [[0.7974683544303796, 0.5227272727272727, 0.6376811594202899, 0.52], 1],\n",
        " [[0.7088607594936708, 0.6818181818181818, 0.5942028985507246, 0.52], 1],\n",
        " [[0.6962025316455696, 0.5681818181818181, 0.5797101449275363, 0.52], 1],\n",
        " [[0.772151898734177,\n",
        "   0.6818181818181818,\n",
        "   0.6666666666666666,\n",
        "   0.5599999999999999],\n",
        "  1],\n",
        " [[0.7341772151898733, 0.5909090909090909, 0.5797101449275363, 0.48], 1],\n",
        " [[0.6329113924050632, 0.5227272727272727, 0.4782608695652174, 0.4], 1],\n",
        " [[0.7088607594936708, 0.6136363636363636, 0.6086956521739131, 0.52], 1],\n",
        " [[0.7215189873417721, 0.6818181818181818, 0.6086956521739131, 0.48], 1],\n",
        " [[0.7215189873417721, 0.6590909090909091, 0.6086956521739131, 0.52], 1],\n",
        " [[0.7215189873417721, 0.6363636363636364, 0.5942028985507246, 0.52], 1]]\n",
        " "
      ],
      "execution_count": null,
      "outputs": []
    },
    {
      "cell_type": "markdown",
      "metadata": {
        "id": "2BdQf0rFq20d"
      },
      "source": [
        "#2. Testing Data "
      ]
    },
    {
      "cell_type": "code",
      "metadata": {
        "id": "RdevFjNjZtsd"
      },
      "source": [
        "test_data=[[[0.620253164556962,\n",
        "   0.6818181818181818,\n",
        "   0.20289855072463767,\n",
        "   0.08000000000000002],\n",
        "  0],\n",
        " [[0.5822784810126581, 0.7727272727272727, 0.20289855072463767, 0.12], 0],\n",
        "[[0.6835443037974683,\n",
        "   0.8409090909090909,\n",
        "   0.2173913043478261,\n",
        "   0.08000000000000002],\n",
        "  0],\n",
        "[[0.7215189873417721, 1.0, 0.2173913043478261, 0.16000000000000003], 0],\n",
        "[[0.6455696202531644, 0.8636363636363635, 0.2173913043478261, 0.12], 0],\n",
        "[[0.5822784810126581,\n",
        "   0.8181818181818181,\n",
        "   0.14492753623188406,\n",
        "   0.08000000000000002],\n",
        "  0],\n",
        "[[0.6582278481012658,\n",
        "   0.7954545454545454,\n",
        "   0.2173913043478261,\n",
        "   0.08000000000000002],\n",
        "  0],\n",
        "[[0.6075949367088607,\n",
        "   0.7045454545454546,\n",
        "   0.23188405797101452,\n",
        "   0.08000000000000002],\n",
        "  0],\n",
        "[[0.6455696202531644,\n",
        "   0.8636363636363635,\n",
        "   0.23188405797101452,\n",
        "   0.08000000000000002],\n",
        "  0],\n",
        "[[0.5569620253164557,\n",
        "   0.7272727272727273,\n",
        "   0.18840579710144928,\n",
        "   0.08000000000000002],\n",
        "  0],\n",
        "[[0.8734177215189872,\n",
        "   0.7045454545454546,\n",
        "   0.7101449275362319,\n",
        "   0.6000000000000001],\n",
        "  1],\n",
        " [[0.8354430379746833, 0.6590909090909091, 0.6666666666666666, 0.52], 1],\n",
        "[[0.7088607594936708,\n",
        "   0.6818181818181818,\n",
        "   0.6521739130434783,\n",
        "   0.6000000000000001],\n",
        "  1],\n",
        "[[0.772151898734177, 0.6363636363636364, 0.5797101449275363, 0.52], 1],\n",
        "[[0.7594936708860758,\n",
        "   0.6590909090909091,\n",
        "   0.6521739130434783,\n",
        "   0.6000000000000001],\n",
        "  1],\n",
        " [[0.7594936708860758,\n",
        "   0.7727272727272727,\n",
        "   0.6521739130434783,\n",
        "   0.6400000000000001],\n",
        "  1],\n",
        "[[0.6962025316455696, 0.5909090909090909, 0.6376811594202899, 0.48], 1],\n",
        "[[0.7848101265822783, 0.6590909090909091, 0.6231884057971014, 0.52], 1],\n",
        " [[0.6455696202531644,\n",
        "   0.5681818181818181,\n",
        "   0.4347826086956522,\n",
        "   0.44000000000000006],\n",
        "  1],\n",
        " [[0.7848101265822783, 0.5, 0.6521739130434783, 0.6000000000000001], 1]]\n",
        "\n"
      ],
      "execution_count": null,
      "outputs": []
    },
    {
      "cell_type": "markdown",
      "metadata": {
        "id": "BkLa_agXbria"
      },
      "source": [
        "#3.Activation Function\n"
      ]
    },
    {
      "cell_type": "markdown",
      "metadata": {
        "id": "ZNsM1CtvrKng"
      },
      "source": [
        "input reads as a string ,If I need ReLU as activation I need to give ReLU.The available activation functions are \n",
        " "
      ]
    },
    {
      "cell_type": "markdown",
      "metadata": {
        "id": "Zfuqqw1Zru7H"
      },
      "source": [
        "#.ReLU\n",
        "#.SIGMOID\n",
        "#.Binary Step\n"
      ]
    },
    {
      "cell_type": "code",
      "metadata": {
        "colab": {
          "base_uri": "https://localhost:8080/"
        },
        "id": "790QUt4pub5P",
        "outputId": "364440c8-f8a9-469f-c7de-79594769614d"
      },
      "source": [
        "activation=input()"
      ],
      "execution_count": null,
      "outputs": [
        {
          "name": "stdout",
          "output_type": "stream",
          "text": [
            "ReLU\n"
          ]
        }
      ]
    },
    {
      "cell_type": "markdown",
      "metadata": {
        "id": "zHeCwIJLuwH_"
      },
      "source": [
        "#4. Code to perform training task"
      ]
    },
    {
      "cell_type": "code",
      "metadata": {
        "id": "mOj_mdpkWRQw"
      },
      "source": [
        "from perceptron import Perceptron\n",
        "import matplotlib.pyplot as plt\n",
        "error_list=[]\n",
        "epochs_list=[]\n",
        "mse_list=[]\n",
        "\n",
        "p = Perceptron(len(training_data[0][0]),activation)\n",
        "epochs = 0  # Number of full iterations\n",
        "\n",
        "while (epochs <20):\n",
        "  \n",
        "\n",
        "  error = 0           # Epoch cumulative error\n",
        "\n",
        "                           \n",
        "  for value in training_data:   # For each set in the training_data\n",
        "\n",
        "    output = p.result(value[0],activation)  # Calculate the result\n",
        "    iter_error = value[1] - output  # Calculate the error\n",
        "    error += iter_error # Add the error to the epoch error\n",
        "    p.weight_adjustment(value[0], iter_error)# Adjust the weights based on inputs and the error\n",
        "\n",
        "  \n",
        "  mse = float(error**2/len(training_data))# Calculate the MSE - epoch error / number of sets\n",
        "  mse_list.append(abs(mse))\n",
        "  error_list.append(error)\n",
        "  epochs_list.append(epochs)\n",
        "  epochs += 1  # Increment the epoch number\n",
        "\n",
        "\n",
        "\n"
      ],
      "execution_count": null,
      "outputs": []
    },
    {
      "cell_type": "markdown",
      "metadata": {
        "id": "5JjHiYeUuvEQ"
      },
      "source": [
        "#5.Code to plot final results (classification task )"
      ]
    },
    {
      "cell_type": "code",
      "metadata": {
        "id": "PrWbAUE8Cyg5",
        "colab": {
          "base_uri": "https://localhost:8080/",
          "height": 606
        },
        "outputId": "5ff8ae8f-b7a5-4581-8a50-45361d1447d0"
      },
      "source": [
        "\n",
        "accuracy=[]\n",
        "x_axis=[]\n",
        "Predicted_list=[]\n",
        "Desired_list=[]\n",
        "lengthOf_TestData=len(test_data)\n",
        "for i in range (lengthOf_TestData):\n",
        "  x_axis.append(i)\n",
        "\n",
        "\n",
        "\n",
        "# Classification Task\n",
        "\n",
        "for value in test_data:\n",
        "  xor_list=[]\n",
        "  det_cls = p.recall(value[0],activation)\n",
        "  xor_list.append(value[1]^det_cls)\n",
        "  acc=((1-xor_list.count(1))/(1)) *100\n",
        "  accuracy.append(acc)\n",
        "  Predicted_list.append(det_cls)\n",
        "  Desired_list.append(value[1])\n",
        "\n",
        "\n",
        "# printing accuracy,Predicted class,desired class \n",
        "print(\"The activation function is \",activation) \n",
        "print(\"epochs value is =\",epochs)\n",
        "#print(\"Desired values=\",Desired_list)\n",
        "#print(\"Predicted values=\",Predicted_list)\n",
        "#print(\"Accuracy values=\",accuracy)\n",
        "\n",
        "\n",
        "\n",
        "\n",
        "# Accuracy plot with respect to i th test data\n",
        "plt.scatter(x_axis,accuracy)\n",
        "plt.plot(x_axis,accuracy)\n",
        "plt.xlabel(\"at i th test data\")\n",
        "plt.ylabel(\"Accuracy % \")\n",
        "plt.title(\"Accuracy Plot\")\n",
        "plt.show()\n",
        "\n",
        "#  abs(MSE)-Plot with respect to epochs\n",
        "plt.scatter(epochs_list,mse_list)\n",
        "plt.plot(epochs_list,mse_list)\n",
        "plt.xlabel('ephochs')\n",
        "plt.ylabel('abs(MSE)')\n",
        "plt.title('MSE-Plot')\n",
        "plt.show()\n",
        "\n",
        " \n",
        "\n",
        "\n",
        "\n",
        "\n",
        "\n",
        "\n"
      ],
      "execution_count": null,
      "outputs": [
        {
          "output_type": "stream",
          "name": "stdout",
          "text": [
            "The activation function is  ReLU\n",
            "epochs value is = 20\n"
          ]
        },
        {
          "output_type": "display_data",
          "data": {
            "image/png": "[encoded data removed]",
            "text/plain": [
              "<Figure size 432x288 with 1 Axes>"
            ]
          },
          "metadata": {
            "needs_background": "light"
          }
        },
        {
          "output_type": "display_data",
          "data": {
            "image/png": "[encoded data removed]",
            "text/plain": [
              "<Figure size 432x288 with 1 Axes>"
            ]
          },
          "metadata": {
            "needs_background": "light"
          }
        }
      ]
    },
    {
      "cell_type": "code",
      "metadata": {
        "id": "NxBJWER_4rJ1",
        "colab": {
          "base_uri": "https://localhost:8080/"
        },
        "outputId": "5f43fc88-ce69-4689-f6b2-34709c01735e"
      },
      "source": [
        "print(\"Predicted class =\",Predicted_list)\n",
        "print(\"Original Class= \",Desired_list)\n",
        "print(\"Activatin is = \",activation)"
      ],
      "execution_count": null,
      "outputs": [
        {
          "output_type": "stream",
          "name": "stdout",
          "text": [
            "Predicted class = [0, 0, 0, 0, 0, 0, 0, 0, 0, 0, 1, 1, 1, 1, 1, 1, 1, 1, 1, 1]\n",
            "Original Class=  [0, 0, 0, 0, 0, 0, 0, 0, 0, 0, 1, 1, 1, 1, 1, 1, 1, 1, 1, 1]\n",
            "Activatin is =  ReLU\n"
          ]
        }
      ]
    },
    {
      "cell_type": "code",
      "metadata": {
        "colab": {
          "base_uri": "https://localhost:8080/"
        },
        "id": "K6laKv6W_Wn_",
        "outputId": "82b36b64-8186-4c97-fe66-92de18b88228"
      },
      "source": [
        "from sklearn.metrics import accuracy_score\n",
        "accuracy_score(Desired_list,Predicted_list,normalize=True)"
      ],
      "execution_count": null,
      "outputs": [
        {
          "output_type": "execute_result",
          "data": {
            "text/plain": [
              "1.0"
            ]
          },
          "metadata": {},
          "execution_count": 72
        }
      ]
    }
  ]
}