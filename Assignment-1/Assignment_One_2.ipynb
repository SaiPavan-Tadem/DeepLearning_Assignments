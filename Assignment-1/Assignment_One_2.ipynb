{
  "nbformat": 4,
  "nbformat_minor": 0,
  "metadata": {
    "colab": {
      "name": "Assignment_One_2.ipynb",
      "provenance": [],
      "collapsed_sections": []
    },
    "kernelspec": {
      "name": "python3",
      "display_name": "Python 3"
    },
    "language_info": {
      "name": "python"
    }
  },
  "cells": [
    {
      "cell_type": "markdown",
      "metadata": {
        "id": "b-nv8GQLw7qn"
      },
      "source": [
        "**Steps Followed**"
      ]
    },
    {
      "cell_type": "markdown",
      "metadata": {
        "id": "WyVSKZkQxFUM"
      },
      "source": [
        "1.Initialization of training data"
      ]
    },
    {
      "cell_type": "markdown",
      "metadata": {
        "id": "7u_606KKxjCw"
      },
      "source": [
        "2.Initialization of test data"
      ]
    },
    {
      "cell_type": "markdown",
      "metadata": {
        "id": "B9LCrrsCzpJY"
      },
      "source": [
        "3.we have to give input Activation(string)  "
      ]
    },
    {
      "cell_type": "markdown",
      "metadata": {
        "id": "QeR1kZLh0OW2"
      },
      "source": [
        "4.Code to train perceptron "
      ]
    },
    {
      "cell_type": "markdown",
      "metadata": {
        "id": "Rmyud-Tp0YHN"
      },
      "source": [
        "5.Code to test and plot"
      ]
    },
    {
      "cell_type": "code",
      "metadata": {
        "id": "Xc3ZI0WZFtDa"
      },
      "source": [
        "#for value in training_data:\n",
        " # for i in range(3):\n",
        "   # if i==2:                           #### code that is used to convert 4 \n",
        "     #value[0].pop(i)"
      ],
      "execution_count": null,
      "outputs": []
    },
    {
      "cell_type": "code",
      "metadata": {
        "id": "8urycRhAFYUV"
      },
      "source": [
        "from sklearn.datasets import load_iris\n",
        "import pandas as pd\n",
        "import numpy as np\n"
      ],
      "execution_count": 2,
      "outputs": []
    },
    {
      "cell_type": "code",
      "metadata": {
        "id": "jhZW_J3CEHFS"
      },
      "source": [
        "training_data=[[[0.6455696202531644, 0.7954545454545454, 0.08000000000000002], 0],\n",
        " [[0.5949367088607594, 0.7272727272727273, 0.08000000000000002], 0],\n",
        " [[0.5822784810126581, 0.7045454545454546, 0.08000000000000002], 0],\n",
        " [[0.6329113924050632, 0.8181818181818181, 0.08000000000000002], 0],\n",
        " [[0.6835443037974683, 0.8863636363636364, 0.16000000000000003], 0],\n",
        " [[0.6329113924050632, 0.7727272727272727, 0.08000000000000002], 0],\n",
        " [[0.5569620253164557, 0.6590909090909091, 0.08000000000000002], 0],\n",
        " [[0.620253164556962, 0.7045454545454546, 0.04000000000000001], 0],\n",
        " [[0.6075949367088607, 0.7727272727272727, 0.08000000000000002], 0],\n",
        " [[0.6075949367088607, 0.6818181818181818, 0.04000000000000001], 0],\n",
        " [[0.5443037974683543, 0.6818181818181818, 0.04000000000000001], 0],\n",
        " [[0.7341772151898733, 0.9090909090909091, 0.08000000000000002], 0],\n",
        " [[0.6835443037974683, 0.8863636363636364, 0.16000000000000003], 0],\n",
        " [[0.6455696202531644, 0.7954545454545454, 0.12], 0],\n",
        " [[0.7215189873417721, 0.8636363636363635, 0.12], 0],\n",
        " [[0.6835443037974683, 0.7727272727272727, 0.08000000000000002], 0],\n",
        " [[0.6455696202531644, 0.8409090909090909, 0.16000000000000003], 0],\n",
        " [[0.6455696202531644, 0.7499999999999999, 0.2], 0],\n",
        " [[0.6075949367088607, 0.7727272727272727, 0.08000000000000002], 0],\n",
        " [[0.6329113924050632, 0.6818181818181818, 0.08000000000000002], 0],\n",
        " [[0.6329113924050632, 0.7727272727272727, 0.16000000000000003], 0],\n",
        " [[0.6582278481012658, 0.7727272727272727, 0.08000000000000002], 0],\n",
        " [[0.5949367088607594, 0.7272727272727273, 0.08000000000000002], 0],\n",
        " [[0.6835443037974683, 0.7727272727272727, 0.16000000000000003], 0],\n",
        " [[0.6582278481012658, 0.9318181818181817, 0.04000000000000001], 0],\n",
        " [[0.6962025316455696, 0.9545454545454546, 0.08000000000000002], 0],\n",
        " [[0.620253164556962, 0.7045454545454546, 0.08000000000000002], 0],\n",
        " [[0.6329113924050632, 0.7272727272727273, 0.08000000000000002], 0],\n",
        " [[0.6962025316455696, 0.7954545454545454, 0.08000000000000002], 0],\n",
        " [[0.620253164556962, 0.8181818181818181, 0.04000000000000001], 0],\n",
        " [[0.5569620253164557, 0.6818181818181818, 0.08000000000000002], 0],\n",
        " [[0.6455696202531644, 0.7727272727272727, 0.08000000000000002], 0],\n",
        " [[0.6329113924050632, 0.7954545454545454, 0.12], 0],\n",
        " [[0.5696202531645569, 0.5227272727272727, 0.12], 0],\n",
        " [[0.6329113924050632, 0.7954545454545454, 0.24], 0],\n",
        " [[0.6455696202531644, 0.8636363636363635, 0.16000000000000003], 0],\n",
        " [[0.6075949367088607, 0.6818181818181818, 0.12], 0],\n",
        " [[0.5822784810126581, 0.7272727272727273, 0.08000000000000002], 0],\n",
        " [[0.670886075949367, 0.8409090909090909, 0.08000000000000002], 0],\n",
        " [[0.6329113924050632, 0.7499999999999999, 0.08000000000000002], 0],\n",
        " [[0.8860759493670884, 0.7272727272727273, 0.5599999999999999], 1],\n",
        " [[0.8101265822784809, 0.7272727272727273, 0.6000000000000001], 1],\n",
        " [[0.6962025316455696, 0.5227272727272727, 0.52], 1],\n",
        " [[0.8227848101265821, 0.6363636363636364, 0.6000000000000001], 1],\n",
        " [[0.7215189873417721, 0.6363636363636364, 0.52], 1],\n",
        " [[0.7974683544303796, 0.7499999999999999, 0.6400000000000001], 1],\n",
        " [[0.620253164556962, 0.5454545454545454, 0.4], 1],\n",
        " [[0.6582278481012658, 0.6136363636363636, 0.5599999999999999], 1],\n",
        " [[0.6329113924050632, 0.45454545454545453, 0.4], 1],\n",
        " [[0.7468354430379747, 0.6818181818181818, 0.6000000000000001], 1],\n",
        " [[0.7594936708860758, 0.5, 0.4], 1],\n",
        " [[0.772151898734177, 0.6590909090909091, 0.5599999999999999], 1],\n",
        " [[0.7088607594936708, 0.6590909090909091, 0.52], 1],\n",
        " [[0.8481012658227847, 0.7045454545454546, 0.5599999999999999], 1],\n",
        " [[0.7341772151898733, 0.6136363636363636, 0.4], 1],\n",
        " [[0.7088607594936708, 0.5681818181818181, 0.44000000000000006], 1],\n",
        " [[0.7468354430379747, 0.7272727272727273, 0.7200000000000001], 1],\n",
        " [[0.7974683544303796, 0.5681818181818181, 0.6000000000000001], 1],\n",
        " [[0.772151898734177, 0.6363636363636364, 0.48], 1],\n",
        " [[0.8101265822784809, 0.6590909090909091, 0.52], 1],\n",
        " [[0.8354430379746833, 0.6818181818181818, 0.5599999999999999], 1],\n",
        " [[0.8607594936708859, 0.6363636363636364, 0.5599999999999999], 1],\n",
        " [[0.8481012658227847, 0.6818181818181818, 0.68], 1],\n",
        " [[0.7215189873417721, 0.5909090909090909, 0.4], 1],\n",
        " [[0.6962025316455696, 0.5454545454545454, 0.44000000000000006], 1],\n",
        " [[0.6962025316455696, 0.5454545454545454, 0.4], 1],\n",
        " [[0.7341772151898733, 0.6136363636363636, 0.48], 1],\n",
        " [[0.7594936708860758, 0.6136363636363636, 0.6400000000000001], 1],\n",
        " [[0.6835443037974683, 0.6818181818181818, 0.6000000000000001], 1],\n",
        " [[0.8481012658227847, 0.7045454545454546, 0.6000000000000001], 1],\n",
        " [[0.7974683544303796, 0.5227272727272727, 0.52], 1],\n",
        " [[0.7088607594936708, 0.6818181818181818, 0.52], 1],\n",
        " [[0.6962025316455696, 0.5681818181818181, 0.52], 1],\n",
        " [[0.772151898734177, 0.6818181818181818, 0.5599999999999999], 1],\n",
        " [[0.7341772151898733, 0.5909090909090909, 0.48], 1],\n",
        " [[0.6329113924050632, 0.5227272727272727, 0.4], 1],\n",
        " [[0.7088607594936708, 0.6136363636363636, 0.52], 1],\n",
        " [[0.7215189873417721, 0.6818181818181818, 0.48], 1],\n",
        " [[0.7215189873417721, 0.6590909090909091, 0.52], 1],\n",
        " [[0.7215189873417721, 0.6363636363636364, 0.52], 1]]"
      ],
      "execution_count": 25,
      "outputs": []
    },
    {
      "cell_type": "code",
      "metadata": {
        "id": "8RJatDF6EIHw"
      },
      "source": [
        "test_data=[[[0.620253164556962, 0.6818181818181818, 0.08000000000000002], 0],\n",
        " [[0.5822784810126581, 0.7727272727272727, 0.12], 0],\n",
        " [[0.6835443037974683, 0.8409090909090909, 0.08000000000000002], 0],\n",
        " [[0.7215189873417721, 1.0, 0.16000000000000003], 0],\n",
        " [[0.6455696202531644, 0.8636363636363635, 0.12], 0],\n",
        " [[0.5822784810126581, 0.8181818181818181, 0.08000000000000002], 0],\n",
        " [[0.6582278481012658, 0.7954545454545454, 0.08000000000000002], 0],\n",
        " [[0.6075949367088607, 0.7045454545454546, 0.08000000000000002], 0],\n",
        " [[0.6455696202531644, 0.8636363636363635, 0.08000000000000002], 0],\n",
        " [[0.5569620253164557, 0.7272727272727273, 0.08000000000000002], 0],\n",
        " [[0.8734177215189872, 0.7045454545454546, 0.6000000000000001], 1],\n",
        " [[0.8354430379746833, 0.6590909090909091, 0.52], 1],\n",
        " [[0.7088607594936708, 0.6818181818181818, 0.6000000000000001], 1],\n",
        " [[0.772151898734177, 0.6363636363636364, 0.52], 1],\n",
        " [[0.7594936708860758, 0.6590909090909091, 0.6000000000000001], 1],\n",
        " [[0.7594936708860758, 0.7727272727272727, 0.6400000000000001], 1],\n",
        " [[0.6962025316455696, 0.5909090909090909, 0.48], 1],\n",
        " [[0.7848101265822783, 0.6590909090909091, 0.52], 1],\n",
        " [[0.6455696202531644, 0.5681818181818181, 0.44000000000000006], 1],\n",
        " [[0.7848101265822783, 0.5, 0.6000000000000001], 1]]"
      ],
      "execution_count": 3,
      "outputs": []
    },
    {
      "cell_type": "code",
      "metadata": {
        "colab": {
          "base_uri": "https://localhost:8080/"
        },
        "id": "Zb3QwYRaIX16",
        "outputId": "6954351f-1f75-4839-9ba8-57072fedc6d9"
      },
      "source": [
        "print(len(test_data))\n",
        "print(len(training_data))"
      ],
      "execution_count": 4,
      "outputs": [
        {
          "output_type": "stream",
          "name": "stdout",
          "text": [
            "20\n",
            "80\n"
          ]
        }
      ]
    },
    {
      "cell_type": "markdown",
      "metadata": {
        "id": "BfwIzoaPm-Qq"
      },
      "source": [
        "# Available activation functions\n",
        "\n",
        "*   ReLU\n",
        "*   BinaryStep\n",
        "*   SIGMOID\n",
        "\n",
        "\n",
        "\n",
        "\n",
        "\n"
      ]
    },
    {
      "cell_type": "code",
      "metadata": {
        "colab": {
          "base_uri": "https://localhost:8080/"
        },
        "id": "UW7JE61AEId5",
        "outputId": "afb745f9-7b2e-46c4-de13-eaddab5d6a2f"
      },
      "source": [
        "activation=input()"
      ],
      "execution_count": 20,
      "outputs": [
        {
          "name": "stdout",
          "output_type": "stream",
          "text": [
            "BinaryStep\n"
          ]
        }
      ]
    },
    {
      "cell_type": "code",
      "metadata": {
        "id": "qYAe_ZvBEIgh"
      },
      "source": [
        "from perceptron import Perceptron\n",
        "import matplotlib.pyplot as plt\n",
        "error_list=[]\n",
        "epochs_list=[]\n",
        "mse_list=[]\n",
        "\n",
        "p = Perceptron(len(training_data[0][0]),activation)\n",
        "epochs = 0  # Number of full iterations\n",
        "# Instantiate mse for the loop\n",
        "# mse =999\n",
        "# while (abs(mse-LMSE) > 0.002):\n",
        "while (epochs <600):\n",
        "  \n",
        "\n",
        "  error = 0           # Epoch cumulative error\n",
        "\n",
        "                           \n",
        "  for value in training_data:   # For each set in the training_data\n",
        "\n",
        "    output = p.result(value[0],activation)  # Calculate the result\n",
        "    iter_error = value[1] - output  # Calculate the error\n",
        "    error += iter_error # Add the error to the epoch error\n",
        "    p.weight_adjustment(value[0], iter_error)# Adjust the weights based on inputs and the error\n",
        "\n",
        "  \n",
        "  mse = float(error**2/len(training_data))# Calculate the MSE - epoch error / number of sets\n",
        "  mse_list.append(abs(mse))\n",
        "  error_list.append(error)\n",
        "  epochs_list.append(epochs)\n",
        "  epochs += 1  # Increment the epoch number\n"
      ],
      "execution_count": 40,
      "outputs": []
    },
    {
      "cell_type": "code",
      "metadata": {
        "colab": {
          "base_uri": "https://localhost:8080/",
          "height": 606
        },
        "id": "okc4tErDEIlG",
        "outputId": "055accd9-282f-46b4-a542-699b5d215f7d"
      },
      "source": [
        "\n",
        "accuracy=[]\n",
        "x_axis=[]\n",
        "Predicted_list=[]\n",
        "Desired_list=[]\n",
        "lengthOf_TestData=len(test_data)\n",
        "for i in range (lengthOf_TestData):\n",
        "  x_axis.append(i)\n",
        "\n",
        "for value in test_data:\n",
        "  xor_list=[]\n",
        "  det_cls = p.recall(value[0],activation)\n",
        "                          \n",
        "  xor_list.append(value[1]^det_cls)\n",
        "  acc=((1-xor_list.count(1))/(1)) *100\n",
        "  accuracy.append(acc)\n",
        "  Predicted_list.append(det_cls)\n",
        "  Desired_list.append(value[1])\n",
        "\n",
        "\n",
        "# printing accuracy,Predicted class,desired class \n",
        "print(\"The activation function is \",activation) \n",
        "print(\"epochs value is =\",epochs)\n",
        "#print(\"Desired values=\",Desired_list)\n",
        "#print(\"Predicted values=\",Predicted_list)\n",
        "#print(\"Accuracy values=\",accuracy)\n",
        "\n",
        "\n",
        "\n",
        "\n",
        "# Accuracy plot with respect to i th test data\n",
        "plt.scatter(x_axis,accuracy)\n",
        "plt.plot(x_axis,accuracy)\n",
        "plt.xlabel(\"at i th test data\")\n",
        "plt.ylabel(\"Accuracy % \")\n",
        "plt.title(\"Accuracy Plot\")\n",
        "plt.show()\n",
        "\n",
        "#  abs(MSE)-Plot with respect to epochs\n",
        "plt.scatter(epochs_list,mse_list)\n",
        "plt.plot(epochs_list,mse_list)\n",
        "plt.xlabel('ephochs')\n",
        "plt.ylabel('abs(MSE)')\n",
        "plt.title('MSE-Plot')\n",
        "plt.show()"
      ],
      "execution_count": 41,
      "outputs": [
        {
          "output_type": "stream",
          "name": "stdout",
          "text": [
            "The activation function is  BinaryStep\n",
            "epochs value is = 600\n"
          ]
        },
        {
          "output_type": "display_data",
          "data": {
            "image/png": "[encoded data removed]",
            "text/plain": [
              "<Figure size 432x288 with 1 Axes>"
            ]
          },
          "metadata": {
            "needs_background": "light"
          }
        },
        {
          "output_type": "display_data",
          "data": {
            "image/png": "[encoded data removed]",
            "text/plain": [
              "<Figure size 432x288 with 1 Axes>"
            ]
          },
          "metadata": {
            "needs_background": "light"
          }
        }
      ]
    },
    {
      "cell_type": "code",
      "metadata": {
        "id": "XvNe4gj4EInZ",
        "colab": {
          "base_uri": "https://localhost:8080/"
        },
        "outputId": "edf57be7-fb06-4c8c-82d9-71566bb1483d"
      },
      "source": [
        "print(\"Predicted class =\",Predicted_list)\n",
        "print(\"Original Class= \",Desired_list)\n",
        "print(\"Activatin is = \",activation)"
      ],
      "execution_count": 42,
      "outputs": [
        {
          "output_type": "stream",
          "name": "stdout",
          "text": [
            "Predicted class = [0, 0, 0, 0, 0, 0, 0, 0, 0, 0, 1, 1, 1, 1, 1, 1, 1, 1, 1, 1]\n",
            "Original Class=  [0, 0, 0, 0, 0, 0, 0, 0, 0, 0, 1, 1, 1, 1, 1, 1, 1, 1, 1, 1]\n",
            "Activatin is =  BinaryStep\n"
          ]
        }
      ]
    },
    {
      "cell_type": "code",
      "metadata": {
        "colab": {
          "base_uri": "https://localhost:8080/"
        },
        "id": "b2slfzFvNpBo",
        "outputId": "1302db7b-2bcf-4b34-d2c8-21e554fefb10"
      },
      "source": [
        "from sklearn.metrics import accuracy_score\n",
        "accuracy_score(Predicted_list,Desired_list, normalize=True)"
      ],
      "execution_count": 43,
      "outputs": [
        {
          "output_type": "execute_result",
          "data": {
            "text/plain": [
              "1.0"
            ]
          },
          "metadata": {},
          "execution_count": 43
        }
      ]
    }
  ]
}